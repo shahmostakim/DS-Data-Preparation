{
 "cells": [
  {
   "cell_type": "code",
   "execution_count": 2,
   "id": "37335576",
   "metadata": {},
   "outputs": [],
   "source": [
    "# in this data preparation project we will work on handling outliers and dealing with null values \n",
    "# first importing the required libraries \n",
    "\n",
    "import pandas as pd\n",
    "import seaborn as sns \n",
    "import matplotlib.pyplot as plt \n",
    "\n",
    "df = pd.read_csv('data.csv')\n",
    "df.columns = df.columns.str.lower() # making all column headers to lowercase for convenience "
   ]
  },
  {
   "cell_type": "code",
   "execution_count": 3,
   "id": "d471ccaf",
   "metadata": {},
   "outputs": [
    {
     "data": {
      "text/html": [
       "<div>\n",
       "<style scoped>\n",
       "    .dataframe tbody tr th:only-of-type {\n",
       "        vertical-align: middle;\n",
       "    }\n",
       "\n",
       "    .dataframe tbody tr th {\n",
       "        vertical-align: top;\n",
       "    }\n",
       "\n",
       "    .dataframe thead th {\n",
       "        text-align: right;\n",
       "    }\n",
       "</style>\n",
       "<table border=\"1\" class=\"dataframe\">\n",
       "  <thead>\n",
       "    <tr style=\"text-align: right;\">\n",
       "      <th></th>\n",
       "      <th>passengerid</th>\n",
       "      <th>survived</th>\n",
       "      <th>pclass</th>\n",
       "      <th>name</th>\n",
       "      <th>sex</th>\n",
       "      <th>age</th>\n",
       "      <th>sibsp</th>\n",
       "      <th>parch</th>\n",
       "      <th>ticket</th>\n",
       "      <th>fare</th>\n",
       "      <th>cabin</th>\n",
       "      <th>embarked</th>\n",
       "    </tr>\n",
       "  </thead>\n",
       "  <tbody>\n",
       "    <tr>\n",
       "      <th>213</th>\n",
       "      <td>214</td>\n",
       "      <td>0</td>\n",
       "      <td>2</td>\n",
       "      <td>Givard, Mr. Hans Kristensen</td>\n",
       "      <td>male</td>\n",
       "      <td>30.0</td>\n",
       "      <td>0</td>\n",
       "      <td>0</td>\n",
       "      <td>250646</td>\n",
       "      <td>13.0000</td>\n",
       "      <td>NaN</td>\n",
       "      <td>S</td>\n",
       "    </tr>\n",
       "    <tr>\n",
       "      <th>79</th>\n",
       "      <td>80</td>\n",
       "      <td>1</td>\n",
       "      <td>3</td>\n",
       "      <td>Dowdell, Miss. Elizabeth</td>\n",
       "      <td>female</td>\n",
       "      <td>30.0</td>\n",
       "      <td>0</td>\n",
       "      <td>0</td>\n",
       "      <td>364516</td>\n",
       "      <td>12.4750</td>\n",
       "      <td>NaN</td>\n",
       "      <td>S</td>\n",
       "    </tr>\n",
       "    <tr>\n",
       "      <th>789</th>\n",
       "      <td>790</td>\n",
       "      <td>0</td>\n",
       "      <td>1</td>\n",
       "      <td>Guggenheim, Mr. Benjamin</td>\n",
       "      <td>male</td>\n",
       "      <td>46.0</td>\n",
       "      <td>0</td>\n",
       "      <td>0</td>\n",
       "      <td>PC 17593</td>\n",
       "      <td>79.2000</td>\n",
       "      <td>B82 B84</td>\n",
       "      <td>C</td>\n",
       "    </tr>\n",
       "    <tr>\n",
       "      <th>581</th>\n",
       "      <td>582</td>\n",
       "      <td>1</td>\n",
       "      <td>1</td>\n",
       "      <td>Thayer, Mrs. John Borland (Marian Longstreth M...</td>\n",
       "      <td>female</td>\n",
       "      <td>39.0</td>\n",
       "      <td>1</td>\n",
       "      <td>1</td>\n",
       "      <td>17421</td>\n",
       "      <td>110.8833</td>\n",
       "      <td>C68</td>\n",
       "      <td>C</td>\n",
       "    </tr>\n",
       "    <tr>\n",
       "      <th>695</th>\n",
       "      <td>696</td>\n",
       "      <td>0</td>\n",
       "      <td>2</td>\n",
       "      <td>Chapman, Mr. Charles Henry</td>\n",
       "      <td>male</td>\n",
       "      <td>52.0</td>\n",
       "      <td>0</td>\n",
       "      <td>0</td>\n",
       "      <td>248731</td>\n",
       "      <td>13.5000</td>\n",
       "      <td>NaN</td>\n",
       "      <td>S</td>\n",
       "    </tr>\n",
       "    <tr>\n",
       "      <th>28</th>\n",
       "      <td>29</td>\n",
       "      <td>1</td>\n",
       "      <td>3</td>\n",
       "      <td>O'Dwyer, Miss. Ellen \"Nellie\"</td>\n",
       "      <td>female</td>\n",
       "      <td>NaN</td>\n",
       "      <td>0</td>\n",
       "      <td>0</td>\n",
       "      <td>330959</td>\n",
       "      <td>7.8792</td>\n",
       "      <td>NaN</td>\n",
       "      <td>Q</td>\n",
       "    </tr>\n",
       "    <tr>\n",
       "      <th>687</th>\n",
       "      <td>688</td>\n",
       "      <td>0</td>\n",
       "      <td>3</td>\n",
       "      <td>Dakic, Mr. Branko</td>\n",
       "      <td>male</td>\n",
       "      <td>19.0</td>\n",
       "      <td>0</td>\n",
       "      <td>0</td>\n",
       "      <td>349228</td>\n",
       "      <td>10.1708</td>\n",
       "      <td>NaN</td>\n",
       "      <td>S</td>\n",
       "    </tr>\n",
       "    <tr>\n",
       "      <th>880</th>\n",
       "      <td>881</td>\n",
       "      <td>1</td>\n",
       "      <td>2</td>\n",
       "      <td>Shelley, Mrs. William (Imanita Parrish Hall)</td>\n",
       "      <td>female</td>\n",
       "      <td>25.0</td>\n",
       "      <td>0</td>\n",
       "      <td>1</td>\n",
       "      <td>230433</td>\n",
       "      <td>26.0000</td>\n",
       "      <td>NaN</td>\n",
       "      <td>S</td>\n",
       "    </tr>\n",
       "    <tr>\n",
       "      <th>367</th>\n",
       "      <td>368</td>\n",
       "      <td>1</td>\n",
       "      <td>3</td>\n",
       "      <td>Moussa, Mrs. (Mantoura Boulos)</td>\n",
       "      <td>female</td>\n",
       "      <td>NaN</td>\n",
       "      <td>0</td>\n",
       "      <td>0</td>\n",
       "      <td>2626</td>\n",
       "      <td>7.2292</td>\n",
       "      <td>NaN</td>\n",
       "      <td>C</td>\n",
       "    </tr>\n",
       "    <tr>\n",
       "      <th>327</th>\n",
       "      <td>328</td>\n",
       "      <td>1</td>\n",
       "      <td>2</td>\n",
       "      <td>Ball, Mrs. (Ada E Hall)</td>\n",
       "      <td>female</td>\n",
       "      <td>36.0</td>\n",
       "      <td>0</td>\n",
       "      <td>0</td>\n",
       "      <td>28551</td>\n",
       "      <td>13.0000</td>\n",
       "      <td>D</td>\n",
       "      <td>S</td>\n",
       "    </tr>\n",
       "  </tbody>\n",
       "</table>\n",
       "</div>"
      ],
      "text/plain": [
       "     passengerid  survived  pclass  \\\n",
       "213          214         0       2   \n",
       "79            80         1       3   \n",
       "789          790         0       1   \n",
       "581          582         1       1   \n",
       "695          696         0       2   \n",
       "28            29         1       3   \n",
       "687          688         0       3   \n",
       "880          881         1       2   \n",
       "367          368         1       3   \n",
       "327          328         1       2   \n",
       "\n",
       "                                                  name     sex   age  sibsp  \\\n",
       "213                        Givard, Mr. Hans Kristensen    male  30.0      0   \n",
       "79                            Dowdell, Miss. Elizabeth  female  30.0      0   \n",
       "789                           Guggenheim, Mr. Benjamin    male  46.0      0   \n",
       "581  Thayer, Mrs. John Borland (Marian Longstreth M...  female  39.0      1   \n",
       "695                         Chapman, Mr. Charles Henry    male  52.0      0   \n",
       "28                       O'Dwyer, Miss. Ellen \"Nellie\"  female   NaN      0   \n",
       "687                                  Dakic, Mr. Branko    male  19.0      0   \n",
       "880       Shelley, Mrs. William (Imanita Parrish Hall)  female  25.0      0   \n",
       "367                     Moussa, Mrs. (Mantoura Boulos)  female   NaN      0   \n",
       "327                            Ball, Mrs. (Ada E Hall)  female  36.0      0   \n",
       "\n",
       "     parch    ticket      fare    cabin embarked  \n",
       "213      0    250646   13.0000      NaN        S  \n",
       "79       0    364516   12.4750      NaN        S  \n",
       "789      0  PC 17593   79.2000  B82 B84        C  \n",
       "581      1     17421  110.8833      C68        C  \n",
       "695      0    248731   13.5000      NaN        S  \n",
       "28       0    330959    7.8792      NaN        Q  \n",
       "687      0    349228   10.1708      NaN        S  \n",
       "880      1    230433   26.0000      NaN        S  \n",
       "367      0      2626    7.2292      NaN        C  \n",
       "327      0     28551   13.0000        D        S  "
      ]
     },
     "execution_count": 3,
     "metadata": {},
     "output_type": "execute_result"
    }
   ],
   "source": [
    "df.sample(10)"
   ]
  },
  {
   "cell_type": "code",
   "execution_count": 4,
   "id": "74e81180",
   "metadata": {},
   "outputs": [
    {
     "data": {
      "text/plain": [
       "<seaborn.axisgrid.FacetGrid at 0x11c8525b0>"
      ]
     },
     "execution_count": 4,
     "metadata": {},
     "output_type": "execute_result"
    },
    {
     "data": {
      "image/png": "[encoded data removed]",
      "text/plain": [
       "<Figure size 432x216 with 2 Axes>"
      ]
     },
     "metadata": {
      "needs_background": "light"
     },
     "output_type": "display_data"
    }
   ],
   "source": [
    "# First task -> Exploring for outlier values -> and Finding and eliminating outliers using histogram plot \n",
    "\n",
    "# Now we try to draw a histogram of fares based on 'survived' column \n",
    "# this helps to find outliers in 'fare' column in context of survival analysis \n",
    "\n",
    "graph = sns.FacetGrid(df, col='survived')\n",
    "graph.map(plt.hist, \"fare\", bins=20)"
   ]
  },
  {
   "cell_type": "code",
   "execution_count": 5,
   "id": "43028005",
   "metadata": {},
   "outputs": [
    {
     "data": {
      "text/plain": [
       "<seaborn.axisgrid.FacetGrid at 0x11c9e3220>"
      ]
     },
     "execution_count": 5,
     "metadata": {},
     "output_type": "execute_result"
    },
    {
     "data": {
      "image/png": "[encoded data removed]",
      "text/plain": [
       "<Figure size 432x216 with 2 Axes>"
      ]
     },
     "metadata": {
      "needs_background": "light"
     },
     "output_type": "display_data"
    }
   ],
   "source": [
    "# from histogram, we see an outlier value for survived=1\n",
    "\n",
    "# operation -> replace the outliers with median value for 'fare' column  \n",
    "df.loc[df['fare']>400, 'fare'] = df['fare'].median()\n",
    "\n",
    "# see the output again after operation \n",
    "\n",
    "graph = sns.FacetGrid(df, col='survived')\n",
    "graph.map(plt.hist, \"fare\", bins=20)"
   ]
  },
  {
   "cell_type": "code",
   "execution_count": 6,
   "id": "33c2035f",
   "metadata": {},
   "outputs": [
    {
     "data": {
      "text/plain": [
       "<seaborn.axisgrid.FacetGrid at 0x11cc2a790>"
      ]
     },
     "execution_count": 6,
     "metadata": {},
     "output_type": "execute_result"
    },
    {
     "data": {
      "image/png": "[encoded data removed]",
      "text/plain": [
       "<Figure size 432x216 with 2 Axes>"
      ]
     },
     "metadata": {
      "needs_background": "light"
     },
     "output_type": "display_data"
    }
   ],
   "source": [
    "# lets see another histogram of survival based on 'Age' column \n",
    "# and carefully check for any outlier value in 'Age' column \n",
    "\n",
    "graph = sns.FacetGrid(df, col='survived')\n",
    "graph.map(plt.hist, \"age\", bins=20)"
   ]
  },
  {
   "cell_type": "code",
   "execution_count": 7,
   "id": "7a5f880e",
   "metadata": {},
   "outputs": [
    {
     "data": {
      "text/plain": [
       "<seaborn.axisgrid.FacetGrid at 0x11cbde610>"
      ]
     },
     "execution_count": 7,
     "metadata": {},
     "output_type": "execute_result"
    },
    {
     "data": {
      "image/png": "[encoded data removed]",
      "text/plain": [
       "<Figure size 432x216 with 2 Axes>"
      ]
     },
     "metadata": {
      "needs_background": "light"
     },
     "output_type": "display_data"
    }
   ],
   "source": [
    "# We found there is an outlier value 80, need to replace it \n",
    "# with say -> 70 which is more relevant with existing values  \n",
    "df.loc[df['age']>70, 'age'] = 70\n",
    "\n",
    "# Now lets see the output again \n",
    "graph = sns.FacetGrid(df, col='survived')\n",
    "graph.map(plt.hist, \"age\", bins=20)"
   ]
  },
  {
   "cell_type": "code",
   "execution_count": 8,
   "id": "cdac8782",
   "metadata": {},
   "outputs": [
    {
     "name": "stdout",
     "output_type": "stream",
     "text": [
      "passengerid :  0\n",
      "survived :  0\n",
      "pclass :  0\n",
      "name :  0\n",
      "sex :  0\n",
      "age :  177\n",
      "sibsp :  0\n",
      "parch :  0\n",
      "ticket :  0\n",
      "fare :  0\n",
      "cabin :  687\n",
      "embarked :  2\n"
     ]
    }
   ],
   "source": [
    "# ==== Handling Null values ========\n",
    "\n",
    "# Loop through all the columns for null values \n",
    "for column in df: \n",
    "    print(column, \": \", df[column].isnull().sum())"
   ]
  },
  {
   "cell_type": "code",
   "execution_count": 9,
   "id": "0ae07220",
   "metadata": {},
   "outputs": [
    {
     "name": "stdout",
     "output_type": "stream",
     "text": [
      "passengerid :  0\n",
      "survived :  0\n",
      "pclass :  0\n",
      "name :  0\n",
      "sex :  0\n",
      "age :  0\n",
      "sibsp :  0\n",
      "parch :  0\n",
      "ticket :  0\n",
      "fare :  0\n",
      "cabin :  687\n",
      "embarked :  2\n"
     ]
    }
   ],
   "source": [
    "# So, we have null values for Age, Cabin and Embarked columns \n",
    "# We can see that, 'age' column has a few null values \n",
    "# but 'cabin' column has large number of null values \n",
    "\n",
    "# Now we will deal with Age column \n",
    "# Will replace nulls with median value and save the dataframe  \n",
    "\n",
    "df['age'].fillna(df['age'].median(), inplace=True)\n",
    "\n",
    "# see the output again\n",
    "for column in df: \n",
    "    print(column, \": \", df[column].isnull().sum())"
   ]
  },
  {
   "cell_type": "code",
   "execution_count": 10,
   "id": "2925d2e5",
   "metadata": {},
   "outputs": [
    {
     "name": "stdout",
     "output_type": "stream",
     "text": [
      "S    644\n",
      "C    168\n",
      "Q     77\n",
      "Name: embarked, dtype: int64\n"
     ]
    }
   ],
   "source": [
    "# Now, Embark column is a non-numeric column \n",
    "# For fixing null values on Embarked column\n",
    "# We need to find value counts\n",
    "# We will replace missing values with more frequent values \n",
    "\n",
    "print(df['embarked'].value_counts())"
   ]
  },
  {
   "cell_type": "code",
   "execution_count": 11,
   "id": "83c8a7b6",
   "metadata": {},
   "outputs": [
    {
     "name": "stdout",
     "output_type": "stream",
     "text": [
      "passengerid :  0\n",
      "survived :  0\n",
      "pclass :  0\n",
      "name :  0\n",
      "sex :  0\n",
      "age :  0\n",
      "sibsp :  0\n",
      "parch :  0\n",
      "ticket :  0\n",
      "fare :  0\n",
      "cabin :  687\n",
      "embarked :  0\n"
     ]
    }
   ],
   "source": [
    "# So we can see that, most frequent value is 'S'\n",
    "# So we need to replace missing values with 'S'\n",
    "# Using fillna function as before \n",
    "\n",
    "df['embarked'].fillna('S', inplace=True)\n",
    "\n",
    "# see the output again\n",
    "for column in df: \n",
    "    print(column, \": \", df[column].isnull().sum())"
   ]
  },
  {
   "cell_type": "code",
   "execution_count": 12,
   "id": "22978338",
   "metadata": {},
   "outputs": [
    {
     "name": "stdout",
     "output_type": "stream",
     "text": [
      "passengerid :  0\n",
      "survived :  0\n",
      "pclass :  0\n",
      "name :  0\n",
      "sex :  0\n",
      "age :  0\n",
      "sibsp :  0\n",
      "parch :  0\n",
      "ticket :  0\n",
      "fare :  0\n",
      "embarked :  0\n"
     ]
    }
   ],
   "source": [
    "# So Embarked column has been fixed \n",
    "# Now, column 'Cabin' has large amount of missing values \n",
    "# We need to drop this column \n",
    "\n",
    "del df['cabin']\n",
    "\n",
    "# see the output again\n",
    "for column in df: \n",
    "    print(column, \": \", df[column].isnull().sum())"
   ]
  },
  {
   "cell_type": "code",
   "execution_count": 13,
   "id": "181a9d78",
   "metadata": {},
   "outputs": [
    {
     "data": {
      "text/html": [
       "<div>\n",
       "<style scoped>\n",
       "    .dataframe tbody tr th:only-of-type {\n",
       "        vertical-align: middle;\n",
       "    }\n",
       "\n",
       "    .dataframe tbody tr th {\n",
       "        vertical-align: top;\n",
       "    }\n",
       "\n",
       "    .dataframe thead th {\n",
       "        text-align: right;\n",
       "    }\n",
       "</style>\n",
       "<table border=\"1\" class=\"dataframe\">\n",
       "  <thead>\n",
       "    <tr style=\"text-align: right;\">\n",
       "      <th></th>\n",
       "      <th>passengerid</th>\n",
       "      <th>survived</th>\n",
       "      <th>pclass</th>\n",
       "      <th>name</th>\n",
       "      <th>sex</th>\n",
       "      <th>age</th>\n",
       "      <th>sibsp</th>\n",
       "      <th>parch</th>\n",
       "      <th>ticket</th>\n",
       "      <th>fare</th>\n",
       "      <th>embarked</th>\n",
       "    </tr>\n",
       "  </thead>\n",
       "  <tbody>\n",
       "    <tr>\n",
       "      <th>274</th>\n",
       "      <td>275</td>\n",
       "      <td>1</td>\n",
       "      <td>3</td>\n",
       "      <td>Healy, Miss. Hanora \"Nora\"</td>\n",
       "      <td>female</td>\n",
       "      <td>28.0</td>\n",
       "      <td>0</td>\n",
       "      <td>0</td>\n",
       "      <td>370375</td>\n",
       "      <td>7.7500</td>\n",
       "      <td>Q</td>\n",
       "    </tr>\n",
       "    <tr>\n",
       "      <th>537</th>\n",
       "      <td>538</td>\n",
       "      <td>1</td>\n",
       "      <td>1</td>\n",
       "      <td>LeRoy, Miss. Bertha</td>\n",
       "      <td>female</td>\n",
       "      <td>30.0</td>\n",
       "      <td>0</td>\n",
       "      <td>0</td>\n",
       "      <td>PC 17761</td>\n",
       "      <td>106.4250</td>\n",
       "      <td>C</td>\n",
       "    </tr>\n",
       "    <tr>\n",
       "      <th>534</th>\n",
       "      <td>535</td>\n",
       "      <td>0</td>\n",
       "      <td>3</td>\n",
       "      <td>Cacic, Miss. Marija</td>\n",
       "      <td>female</td>\n",
       "      <td>30.0</td>\n",
       "      <td>0</td>\n",
       "      <td>0</td>\n",
       "      <td>315084</td>\n",
       "      <td>8.6625</td>\n",
       "      <td>S</td>\n",
       "    </tr>\n",
       "    <tr>\n",
       "      <th>499</th>\n",
       "      <td>500</td>\n",
       "      <td>0</td>\n",
       "      <td>3</td>\n",
       "      <td>Svensson, Mr. Olof</td>\n",
       "      <td>male</td>\n",
       "      <td>24.0</td>\n",
       "      <td>0</td>\n",
       "      <td>0</td>\n",
       "      <td>350035</td>\n",
       "      <td>7.7958</td>\n",
       "      <td>S</td>\n",
       "    </tr>\n",
       "    <tr>\n",
       "      <th>519</th>\n",
       "      <td>520</td>\n",
       "      <td>0</td>\n",
       "      <td>3</td>\n",
       "      <td>Pavlovic, Mr. Stefo</td>\n",
       "      <td>male</td>\n",
       "      <td>32.0</td>\n",
       "      <td>0</td>\n",
       "      <td>0</td>\n",
       "      <td>349242</td>\n",
       "      <td>7.8958</td>\n",
       "      <td>S</td>\n",
       "    </tr>\n",
       "    <tr>\n",
       "      <th>112</th>\n",
       "      <td>113</td>\n",
       "      <td>0</td>\n",
       "      <td>3</td>\n",
       "      <td>Barton, Mr. David John</td>\n",
       "      <td>male</td>\n",
       "      <td>22.0</td>\n",
       "      <td>0</td>\n",
       "      <td>0</td>\n",
       "      <td>324669</td>\n",
       "      <td>8.0500</td>\n",
       "      <td>S</td>\n",
       "    </tr>\n",
       "    <tr>\n",
       "      <th>613</th>\n",
       "      <td>614</td>\n",
       "      <td>0</td>\n",
       "      <td>3</td>\n",
       "      <td>Horgan, Mr. John</td>\n",
       "      <td>male</td>\n",
       "      <td>28.0</td>\n",
       "      <td>0</td>\n",
       "      <td>0</td>\n",
       "      <td>370377</td>\n",
       "      <td>7.7500</td>\n",
       "      <td>Q</td>\n",
       "    </tr>\n",
       "    <tr>\n",
       "      <th>187</th>\n",
       "      <td>188</td>\n",
       "      <td>1</td>\n",
       "      <td>1</td>\n",
       "      <td>Romaine, Mr. Charles Hallace (\"Mr C Rolmane\")</td>\n",
       "      <td>male</td>\n",
       "      <td>45.0</td>\n",
       "      <td>0</td>\n",
       "      <td>0</td>\n",
       "      <td>111428</td>\n",
       "      <td>26.5500</td>\n",
       "      <td>S</td>\n",
       "    </tr>\n",
       "    <tr>\n",
       "      <th>609</th>\n",
       "      <td>610</td>\n",
       "      <td>1</td>\n",
       "      <td>1</td>\n",
       "      <td>Shutes, Miss. Elizabeth W</td>\n",
       "      <td>female</td>\n",
       "      <td>40.0</td>\n",
       "      <td>0</td>\n",
       "      <td>0</td>\n",
       "      <td>PC 17582</td>\n",
       "      <td>153.4625</td>\n",
       "      <td>S</td>\n",
       "    </tr>\n",
       "    <tr>\n",
       "      <th>98</th>\n",
       "      <td>99</td>\n",
       "      <td>1</td>\n",
       "      <td>2</td>\n",
       "      <td>Doling, Mrs. John T (Ada Julia Bone)</td>\n",
       "      <td>female</td>\n",
       "      <td>34.0</td>\n",
       "      <td>0</td>\n",
       "      <td>1</td>\n",
       "      <td>231919</td>\n",
       "      <td>23.0000</td>\n",
       "      <td>S</td>\n",
       "    </tr>\n",
       "  </tbody>\n",
       "</table>\n",
       "</div>"
      ],
      "text/plain": [
       "     passengerid  survived  pclass  \\\n",
       "274          275         1       3   \n",
       "537          538         1       1   \n",
       "534          535         0       3   \n",
       "499          500         0       3   \n",
       "519          520         0       3   \n",
       "112          113         0       3   \n",
       "613          614         0       3   \n",
       "187          188         1       1   \n",
       "609          610         1       1   \n",
       "98            99         1       2   \n",
       "\n",
       "                                              name     sex   age  sibsp  \\\n",
       "274                     Healy, Miss. Hanora \"Nora\"  female  28.0      0   \n",
       "537                            LeRoy, Miss. Bertha  female  30.0      0   \n",
       "534                            Cacic, Miss. Marija  female  30.0      0   \n",
       "499                             Svensson, Mr. Olof    male  24.0      0   \n",
       "519                            Pavlovic, Mr. Stefo    male  32.0      0   \n",
       "112                         Barton, Mr. David John    male  22.0      0   \n",
       "613                               Horgan, Mr. John    male  28.0      0   \n",
       "187  Romaine, Mr. Charles Hallace (\"Mr C Rolmane\")    male  45.0      0   \n",
       "609                      Shutes, Miss. Elizabeth W  female  40.0      0   \n",
       "98            Doling, Mrs. John T (Ada Julia Bone)  female  34.0      0   \n",
       "\n",
       "     parch    ticket      fare embarked  \n",
       "274      0    370375    7.7500        Q  \n",
       "537      0  PC 17761  106.4250        C  \n",
       "534      0    315084    8.6625        S  \n",
       "499      0    350035    7.7958        S  \n",
       "519      0    349242    7.8958        S  \n",
       "112      0    324669    8.0500        S  \n",
       "613      0    370377    7.7500        Q  \n",
       "187      0    111428   26.5500        S  \n",
       "609      0  PC 17582  153.4625        S  \n",
       "98       1    231919   23.0000        S  "
      ]
     },
     "execution_count": 13,
     "metadata": {},
     "output_type": "execute_result"
    }
   ],
   "source": [
    "# Now we see no null values in our dataframe \n",
    "\n",
    "# ==== END =====\n",
    "\n",
    "# [OPTIONAL] see some sample data \n",
    "df.sample(10)"
   ]
  },
  {
   "cell_type": "code",
   "execution_count": null,
   "id": "a3a89e2b",
   "metadata": {},
   "outputs": [],
   "source": []
  }
 ],
 "metadata": {
  "kernelspec": {
   "display_name": "Python 3 (ipykernel)",
   "language": "python",
   "name": "python3"
  },
  "language_info": {
   "codemirror_mode": {
    "name": "ipython",
    "version": 3
   },
   "file_extension": ".py",
   "mimetype": "text/x-python",
   "name": "python",
   "nbconvert_exporter": "python",
   "pygments_lexer": "ipython3",
   "version": "3.9.8"
  }
 },
 "nbformat": 4,
 "nbformat_minor": 5
}
